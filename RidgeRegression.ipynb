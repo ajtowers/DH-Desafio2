{
 "cells": [
  {
   "cell_type": "code",
   "execution_count": 15,
   "metadata": {},
   "outputs": [],
   "source": [
    "from IPython.core.interactiveshell import InteractiveShell\n",
    "InteractiveShell.ast_node_interactivity = \"all\"\n",
    "import warnings\n",
    "warnings.filterwarnings('ignore')"
   ]
  },
  {
   "cell_type": "code",
   "execution_count": 16,
   "metadata": {},
   "outputs": [],
   "source": [
    "import pandas as pd\n",
    "pd.set_option('display.max_colwidth', -1)\n",
    "import numpy as np"
   ]
  },
  {
   "cell_type": "code",
   "execution_count": 17,
   "metadata": {},
   "outputs": [],
   "source": [
    "import matplotlib.pyplot as plt\n",
    "%matplotlib inline\n",
    "import seaborn as sns\n",
    "sns.set(style = \"whitegrid\")"
   ]
  },
  {
   "cell_type": "code",
   "execution_count": 18,
   "metadata": {},
   "outputs": [],
   "source": [
    "from sklearn.preprocessing import StandardScaler, LabelBinarizer, MinMaxScaler, PolynomialFeatures \n",
    "from sklearn.model_selection import train_test_split, cross_val_predict, cross_val_score, KFold\n",
    "from sklearn.linear_model import LinearRegression, Lasso, Ridge, LassoCV, RidgeCV\n",
    "from sklearn.metrics import r2_score, mean_squared_error, mean_absolute_error"
   ]
  },
  {
   "cell_type": "code",
   "execution_count": null,
   "metadata": {},
   "outputs": [],
   "source": [
    "def pred_vs_test(y_test, y_pred, r2):\n",
    "    plt.plot(y_test, y_test, '-.', c='grey')\n",
    "    plt.scatter(y_pred, y_test, s=30, c='r', marker='+', zorder=10)\n",
    "    plt.xlabel(\"Predicciones / R2 ={:.3f}\".format(r2))\n",
    "    plt.ylabel(\"Valores reales\")"
   ]
  },
  {
   "cell_type": "markdown",
   "metadata": {},
   "source": [
    "#### Lectura del dataset"
   ]
  },
  {
   "cell_type": "code",
   "execution_count": 19,
   "metadata": {
    "scrolled": true
   },
   "outputs": [
    {
     "data": {
      "text/html": [
       "<div>\n",
       "<style scoped>\n",
       "    .dataframe tbody tr th:only-of-type {\n",
       "        vertical-align: middle;\n",
       "    }\n",
       "\n",
       "    .dataframe tbody tr th {\n",
       "        vertical-align: top;\n",
       "    }\n",
       "\n",
       "    .dataframe thead th {\n",
       "        text-align: right;\n",
       "    }\n",
       "</style>\n",
       "<table border=\"1\" class=\"dataframe\">\n",
       "  <thead>\n",
       "    <tr style=\"text-align: right;\">\n",
       "      <th></th>\n",
       "      <th>superficie</th>\n",
       "      <th>precio</th>\n",
       "      <th>ambientes</th>\n",
       "      <th>pileta</th>\n",
       "      <th>seguridad</th>\n",
       "      <th>parrilla</th>\n",
       "      <th>balcon</th>\n",
       "      <th>cochera</th>\n",
       "      <th>dist_comisarias</th>\n",
       "      <th>dist_subte</th>\n",
       "      <th>dist_trenes</th>\n",
       "      <th>dist_metrobus</th>\n",
       "      <th>antiguedad</th>\n",
       "      <th>barrio</th>\n",
       "    </tr>\n",
       "  </thead>\n",
       "  <tbody>\n",
       "    <tr>\n",
       "      <th>0</th>\n",
       "      <td>104.0</td>\n",
       "      <td>3365.384615</td>\n",
       "      <td>3</td>\n",
       "      <td>0</td>\n",
       "      <td>0</td>\n",
       "      <td>0</td>\n",
       "      <td>1</td>\n",
       "      <td>0</td>\n",
       "      <td>719.300376</td>\n",
       "      <td>991.604946</td>\n",
       "      <td>794.459912</td>\n",
       "      <td>1500.489635</td>\n",
       "      <td>usado</td>\n",
       "      <td>Norte</td>\n",
       "    </tr>\n",
       "    <tr>\n",
       "      <th>1</th>\n",
       "      <td>68.0</td>\n",
       "      <td>3455.882353</td>\n",
       "      <td>2</td>\n",
       "      <td>1</td>\n",
       "      <td>0</td>\n",
       "      <td>0</td>\n",
       "      <td>0</td>\n",
       "      <td>0</td>\n",
       "      <td>980.716124</td>\n",
       "      <td>906.891789</td>\n",
       "      <td>260.100239</td>\n",
       "      <td>876.358223</td>\n",
       "      <td>estrenar</td>\n",
       "      <td>Las Cañitas</td>\n",
       "    </tr>\n",
       "  </tbody>\n",
       "</table>\n",
       "</div>"
      ],
      "text/plain": [
       "   superficie       precio  ambientes  pileta  seguridad  parrilla  balcon  \\\n",
       "0  104.0       3365.384615  3          0       0          0         1        \n",
       "1  68.0        3455.882353  2          1       0          0         0        \n",
       "\n",
       "   cochera  dist_comisarias  dist_subte  dist_trenes  dist_metrobus  \\\n",
       "0  0        719.300376       991.604946  794.459912   1500.489635     \n",
       "1  0        980.716124       906.891789  260.100239   876.358223      \n",
       "\n",
       "  antiguedad       barrio  \n",
       "0  usado      Norte        \n",
       "1  estrenar   Las Cañitas  "
      ]
     },
     "execution_count": 19,
     "metadata": {},
     "output_type": "execute_result"
    }
   ],
   "source": [
    "df = pd.read_csv('palermo_deptos_final.csv')\n",
    "df.drop(['Unnamed: 0', 'id', 'expensas', 'piso', 'descripcion', 'geometry', 'cubierta'], axis=1, inplace=True)\n",
    "df.head(2)"
   ]
  },
  {
   "cell_type": "markdown",
   "metadata": {},
   "source": [
    "### Agregar variables dummy - Discretización"
   ]
  },
  {
   "cell_type": "code",
   "execution_count": 20,
   "metadata": {},
   "outputs": [],
   "source": [
    "barrio_dummy = pd.get_dummies(df.barrio, drop_first=True, dtype='int')\n",
    "antiguedad_dummy = pd.get_dummies((df.antiguedad), drop_first=True, dtype='int')"
   ]
  },
  {
   "cell_type": "code",
   "execution_count": 21,
   "metadata": {},
   "outputs": [],
   "source": [
    "df = pd.concat([df, barrio_dummy], axis=1)\n",
    "df = pd.concat([df, antiguedad_dummy], axis=1)"
   ]
  },
  {
   "cell_type": "code",
   "execution_count": 22,
   "metadata": {},
   "outputs": [],
   "source": [
    "df.drop(['barrio', 'antiguedad'], axis=1, inplace=True)"
   ]
  },
  {
   "cell_type": "code",
   "execution_count": 23,
   "metadata": {},
   "outputs": [
    {
     "data": {
      "text/html": [
       "<div>\n",
       "<style scoped>\n",
       "    .dataframe tbody tr th:only-of-type {\n",
       "        vertical-align: middle;\n",
       "    }\n",
       "\n",
       "    .dataframe tbody tr th {\n",
       "        vertical-align: top;\n",
       "    }\n",
       "\n",
       "    .dataframe thead th {\n",
       "        text-align: right;\n",
       "    }\n",
       "</style>\n",
       "<table border=\"1\" class=\"dataframe\">\n",
       "  <thead>\n",
       "    <tr style=\"text-align: right;\">\n",
       "      <th></th>\n",
       "      <th>superficie</th>\n",
       "      <th>precio</th>\n",
       "      <th>ambientes</th>\n",
       "      <th>pileta</th>\n",
       "      <th>seguridad</th>\n",
       "      <th>parrilla</th>\n",
       "      <th>balcon</th>\n",
       "      <th>cochera</th>\n",
       "      <th>dist_comisarias</th>\n",
       "      <th>dist_subte</th>\n",
       "      <th>...</th>\n",
       "      <th>Freud</th>\n",
       "      <th>Hollywood</th>\n",
       "      <th>Las Cañitas</th>\n",
       "      <th>Norte</th>\n",
       "      <th>Nuevo</th>\n",
       "      <th>Pacifico</th>\n",
       "      <th>Soho</th>\n",
       "      <th>Zoo</th>\n",
       "      <th>pozo</th>\n",
       "      <th>usado</th>\n",
       "    </tr>\n",
       "  </thead>\n",
       "  <tbody>\n",
       "    <tr>\n",
       "      <th>0</th>\n",
       "      <td>104.0</td>\n",
       "      <td>3365.384615</td>\n",
       "      <td>3</td>\n",
       "      <td>0</td>\n",
       "      <td>0</td>\n",
       "      <td>0</td>\n",
       "      <td>1</td>\n",
       "      <td>0</td>\n",
       "      <td>719.300376</td>\n",
       "      <td>991.604946</td>\n",
       "      <td>...</td>\n",
       "      <td>0</td>\n",
       "      <td>0</td>\n",
       "      <td>0</td>\n",
       "      <td>1</td>\n",
       "      <td>0</td>\n",
       "      <td>0</td>\n",
       "      <td>0</td>\n",
       "      <td>0</td>\n",
       "      <td>0</td>\n",
       "      <td>1</td>\n",
       "    </tr>\n",
       "    <tr>\n",
       "      <th>1</th>\n",
       "      <td>68.0</td>\n",
       "      <td>3455.882353</td>\n",
       "      <td>2</td>\n",
       "      <td>1</td>\n",
       "      <td>0</td>\n",
       "      <td>0</td>\n",
       "      <td>0</td>\n",
       "      <td>0</td>\n",
       "      <td>980.716124</td>\n",
       "      <td>906.891789</td>\n",
       "      <td>...</td>\n",
       "      <td>0</td>\n",
       "      <td>0</td>\n",
       "      <td>1</td>\n",
       "      <td>0</td>\n",
       "      <td>0</td>\n",
       "      <td>0</td>\n",
       "      <td>0</td>\n",
       "      <td>0</td>\n",
       "      <td>0</td>\n",
       "      <td>0</td>\n",
       "    </tr>\n",
       "  </tbody>\n",
       "</table>\n",
       "<p>2 rows × 25 columns</p>\n",
       "</div>"
      ],
      "text/plain": [
       "   superficie       precio  ambientes  pileta  seguridad  parrilla  balcon  \\\n",
       "0  104.0       3365.384615  3          0       0          0         1        \n",
       "1  68.0        3455.882353  2          1       0          0         0        \n",
       "\n",
       "   cochera  dist_comisarias  dist_subte  ...    Freud  Hollywood  Las Cañitas  \\\n",
       "0  0        719.300376       991.604946  ...    0      0          0             \n",
       "1  0        980.716124       906.891789  ...    0      0          1             \n",
       "\n",
       "   Norte  Nuevo  Pacifico  Soho  Zoo  pozo  usado  \n",
       "0  1      0      0         0     0    0     1      \n",
       "1  0      0      0         0     0    0     0      \n",
       "\n",
       "[2 rows x 25 columns]"
      ]
     },
     "execution_count": 23,
     "metadata": {},
     "output_type": "execute_result"
    },
    {
     "name": "stdout",
     "output_type": "stream",
     "text": [
      "<class 'pandas.core.frame.DataFrame'>\n",
      "RangeIndex: 1770 entries, 0 to 1769\n",
      "Data columns (total 25 columns):\n",
      "superficie         1770 non-null float64\n",
      "precio             1770 non-null float64\n",
      "ambientes          1770 non-null int64\n",
      "pileta             1770 non-null int64\n",
      "seguridad          1770 non-null int64\n",
      "parrilla           1770 non-null int64\n",
      "balcon             1770 non-null int64\n",
      "cochera            1770 non-null int64\n",
      "dist_comisarias    1770 non-null float64\n",
      "dist_subte         1770 non-null float64\n",
      "dist_trenes        1770 non-null float64\n",
      "dist_metrobus      1770 non-null float64\n",
      "Botanico           1770 non-null int64\n",
      "Chico              1770 non-null int64\n",
      "Falso Belgrano     1770 non-null int64\n",
      "Freud              1770 non-null int64\n",
      "Hollywood          1770 non-null int64\n",
      "Las Cañitas        1770 non-null int64\n",
      "Norte              1770 non-null int64\n",
      "Nuevo              1770 non-null int64\n",
      "Pacifico           1770 non-null int64\n",
      "Soho               1770 non-null int64\n",
      "Zoo                1770 non-null int64\n",
      "pozo               1770 non-null int64\n",
      "usado              1770 non-null int64\n",
      "dtypes: float64(6), int64(19)\n",
      "memory usage: 345.8 KB\n"
     ]
    },
    {
     "data": {
      "text/plain": [
       "Index(['superficie', 'precio', 'ambientes', 'pileta', 'seguridad', 'parrilla',\n",
       "       'balcon', 'cochera', 'dist_comisarias', 'dist_subte', 'dist_trenes',\n",
       "       'dist_metrobus', 'Botanico', 'Chico', 'Falso Belgrano', 'Freud',\n",
       "       'Hollywood', 'Las Cañitas', 'Norte', 'Nuevo', 'Pacifico', 'Soho', 'Zoo',\n",
       "       'pozo', 'usado'],\n",
       "      dtype='object')"
      ]
     },
     "execution_count": 23,
     "metadata": {},
     "output_type": "execute_result"
    }
   ],
   "source": [
    "df.head(2)\n",
    "df.info()\n",
    "df.columns"
   ]
  },
  {
   "cell_type": "code",
   "execution_count": 24,
   "metadata": {},
   "outputs": [
    {
     "data": {
      "text/plain": [
       "pileta             0.400525\n",
       "cochera            0.365194\n",
       "seguridad          0.301327\n",
       "Nuevo              0.266726\n",
       "dist_trenes        0.179184\n",
       "parrilla           0.158649\n",
       "Freud              0.152822\n",
       "dist_comisarias    0.138299\n",
       "Soho               0.126024\n",
       "Las Cañitas        0.115540\n",
       "Falso Belgrano     0.104782\n",
       "Norte              0.095903\n",
       "usado              0.095859\n",
       "Pacifico           0.091958\n",
       "superficie         0.089334\n",
       "Chico              0.084194\n",
       "Zoo                0.070561\n",
       "ambientes          0.068026\n",
       "balcon             0.066479\n",
       "pozo               0.037106\n",
       "Botanico           0.036671\n",
       "dist_metrobus      0.031962\n",
       "Hollywood          0.029600\n",
       "dist_subte         0.004390\n",
       "Name: precio, dtype: float64"
      ]
     },
     "execution_count": 24,
     "metadata": {},
     "output_type": "execute_result"
    }
   ],
   "source": [
    "corr_mtx = df.corr()\n",
    "features = abs(corr_mtx['precio']).sort_values(ascending=False)[1:]\n",
    "features"
   ]
  },
  {
   "cell_type": "code",
   "execution_count": 25,
   "metadata": {},
   "outputs": [],
   "source": [
    "# Reordeno columnas en orden descendente por corr con 'precio'\n",
    "X = df.loc[:, features.index]\n",
    "y = df['precio']"
   ]
  },
  {
   "cell_type": "markdown",
   "metadata": {},
   "source": [
    "### Evaluación modelo RidgeRegression"
   ]
  },
  {
   "cell_type": "code",
   "execution_count": 26,
   "metadata": {},
   "outputs": [],
   "source": [
    "def evaluate_rg(X, y, degree=1, scaling='standard', splits=5, alphas=None, random_state=18):\n",
    "    \"\"\"\n",
    "    inputs: \n",
    "    X, y\n",
    "    degree = grado para las Polynomial Features\n",
    "    scaling = standard o minmax\n",
    "    splits = cantidad de kfolds\n",
    "    alphas = listado de alphas a testear. None (default seleccionado por algoritmo)\n",
    "    random_state\n",
    "    \n",
    "    output:\n",
    "    df con scores y coefficients\n",
    "    \"\"\"\n",
    "    \n",
    "    # split Train-Test\n",
    "    X_train, X_test, y_train, y_test = train_test_split(X, y, random_state=random_state)\n",
    "    \n",
    "    # scaling\n",
    "    if scaling == 'minmax':\n",
    "        minmax = MinMaxScaler()\n",
    "        X_train_scaled = minmax.fit_transform(X_train)\n",
    "        X_test_scaled = minmax.transform(X_test)\n",
    "    else:\n",
    "        se = StandardScaler()\n",
    "        X_train_scaled = se.fit_transform(X_train)\n",
    "        X_test_scaled = se.transform(X_test)\n",
    "    \n",
    "    # polynomial features\n",
    "    poly = PolynomialFeatures(degree = degree)\n",
    "    X_train_scaled_poly = poly.fit_transform(X_train_scaled)\n",
    "    X_test_scaled_poly = poly.transform(X_test_scaled)\n",
    "    \n",
    "    # shuffling\n",
    "    kf = KFold(n_splits=splits, shuffle=True, random_state=random_state)\n",
    "    \n",
    "    # train model\n",
    "    model = RidgeCV(alphas=alphas, cv=kf)\n",
    "    model.fit(X_train_scaled_poly, y_train)\n",
    "    \n",
    "    # intercept and coefficients\n",
    "    intercepto = model.intercept_\n",
    "    coefficients = model.coef_\n",
    "    \n",
    "    # predict\n",
    "    y_pred = model.predict(X_test_scaled_poly)\n",
    "                   \n",
    "    # return dataframe with results\n",
    "    results = {\n",
    "                'r2': r2_score(y_test, y_pred),\n",
    "                'mae': mean_absolute_error(y_test, y_pred), \n",
    "                'rsme': np.sqrt(mean_squared_error(y_test, y_pred)),\n",
    "                'features': X.columns.values,\n",
    "                'degree': degree,\n",
    "                'scaling': scaling,\n",
    "                'alpha': model.alpha_,\n",
    "                'intercept': model.intercept_,\n",
    "                'coefficients': model.coef_,\n",
    "              }\n",
    "    return results"
   ]
  },
  {
   "cell_type": "code",
   "execution_count": 52,
   "metadata": {},
   "outputs": [],
   "source": [
    "ridge_models = []\n",
    "alphas_to_check = [x/10.0 for x in range(3000)]\n",
    "for scal in ['standard', 'minmax']:    \n",
    "    for deg in [1, 2]:    \n",
    "            res = evaluate_rg(X, y, degree=deg, scaling=scal, alphas=alphas_to_check)\n",
    "            ridge_models.append(res)\n",
    "ridge_models_df = pd.DataFrame(ridge_models)"
   ]
  },
  {
   "cell_type": "code",
   "execution_count": 53,
   "metadata": {},
   "outputs": [],
   "source": [
    "best_ridge_models = ridge_models_df.loc[:, ['r2','features', 'degree', 'alpha', 'scaling']].sort_values(by='r2', ascending=False)"
   ]
  },
  {
   "cell_type": "code",
   "execution_count": 54,
   "metadata": {},
   "outputs": [
    {
     "data": {
      "text/html": [
       "<div>\n",
       "<style scoped>\n",
       "    .dataframe tbody tr th:only-of-type {\n",
       "        vertical-align: middle;\n",
       "    }\n",
       "\n",
       "    .dataframe tbody tr th {\n",
       "        vertical-align: top;\n",
       "    }\n",
       "\n",
       "    .dataframe thead th {\n",
       "        text-align: right;\n",
       "    }\n",
       "</style>\n",
       "<table border=\"1\" class=\"dataframe\">\n",
       "  <thead>\n",
       "    <tr style=\"text-align: right;\">\n",
       "      <th></th>\n",
       "      <th>r2</th>\n",
       "      <th>features</th>\n",
       "      <th>degree</th>\n",
       "      <th>alpha</th>\n",
       "      <th>scaling</th>\n",
       "    </tr>\n",
       "  </thead>\n",
       "  <tbody>\n",
       "    <tr>\n",
       "      <th>1</th>\n",
       "      <td>0.468549</td>\n",
       "      <td>[pileta, cochera, seguridad, Nuevo, dist_trenes, parrilla, Freud, dist_comisarias, Soho, Las Cañitas, Falso Belgrano, Norte, usado, Pacifico, superficie, Chico, Zoo, ambientes, balcon, pozo, Botanico, dist_metrobus, Hollywood, dist_subte]</td>\n",
       "      <td>2</td>\n",
       "      <td>299.9</td>\n",
       "      <td>standard</td>\n",
       "    </tr>\n",
       "    <tr>\n",
       "      <th>3</th>\n",
       "      <td>0.418986</td>\n",
       "      <td>[pileta, cochera, seguridad, Nuevo, dist_trenes, parrilla, Freud, dist_comisarias, Soho, Las Cañitas, Falso Belgrano, Norte, usado, Pacifico, superficie, Chico, Zoo, ambientes, balcon, pozo, Botanico, dist_metrobus, Hollywood, dist_subte]</td>\n",
       "      <td>2</td>\n",
       "      <td>8.2</td>\n",
       "      <td>minmax</td>\n",
       "    </tr>\n",
       "    <tr>\n",
       "      <th>0</th>\n",
       "      <td>0.341004</td>\n",
       "      <td>[pileta, cochera, seguridad, Nuevo, dist_trenes, parrilla, Freud, dist_comisarias, Soho, Las Cañitas, Falso Belgrano, Norte, usado, Pacifico, superficie, Chico, Zoo, ambientes, balcon, pozo, Botanico, dist_metrobus, Hollywood, dist_subte]</td>\n",
       "      <td>1</td>\n",
       "      <td>33.4</td>\n",
       "      <td>standard</td>\n",
       "    </tr>\n",
       "    <tr>\n",
       "      <th>2</th>\n",
       "      <td>0.339006</td>\n",
       "      <td>[pileta, cochera, seguridad, Nuevo, dist_trenes, parrilla, Freud, dist_comisarias, Soho, Las Cañitas, Falso Belgrano, Norte, usado, Pacifico, superficie, Chico, Zoo, ambientes, balcon, pozo, Botanico, dist_metrobus, Hollywood, dist_subte]</td>\n",
       "      <td>1</td>\n",
       "      <td>1.0</td>\n",
       "      <td>minmax</td>\n",
       "    </tr>\n",
       "  </tbody>\n",
       "</table>\n",
       "</div>"
      ],
      "text/plain": [
       "         r2  \\\n",
       "1  0.468549   \n",
       "3  0.418986   \n",
       "0  0.341004   \n",
       "2  0.339006   \n",
       "\n",
       "                                                                                                                                                                                                                                         features  \\\n",
       "1  [pileta, cochera, seguridad, Nuevo, dist_trenes, parrilla, Freud, dist_comisarias, Soho, Las Cañitas, Falso Belgrano, Norte, usado, Pacifico, superficie, Chico, Zoo, ambientes, balcon, pozo, Botanico, dist_metrobus, Hollywood, dist_subte]   \n",
       "3  [pileta, cochera, seguridad, Nuevo, dist_trenes, parrilla, Freud, dist_comisarias, Soho, Las Cañitas, Falso Belgrano, Norte, usado, Pacifico, superficie, Chico, Zoo, ambientes, balcon, pozo, Botanico, dist_metrobus, Hollywood, dist_subte]   \n",
       "0  [pileta, cochera, seguridad, Nuevo, dist_trenes, parrilla, Freud, dist_comisarias, Soho, Las Cañitas, Falso Belgrano, Norte, usado, Pacifico, superficie, Chico, Zoo, ambientes, balcon, pozo, Botanico, dist_metrobus, Hollywood, dist_subte]   \n",
       "2  [pileta, cochera, seguridad, Nuevo, dist_trenes, parrilla, Freud, dist_comisarias, Soho, Las Cañitas, Falso Belgrano, Norte, usado, Pacifico, superficie, Chico, Zoo, ambientes, balcon, pozo, Botanico, dist_metrobus, Hollywood, dist_subte]   \n",
       "\n",
       "   degree  alpha   scaling  \n",
       "1  2       299.9  standard  \n",
       "3  2       8.2    minmax    \n",
       "0  1       33.4   standard  \n",
       "2  1       1.0    minmax    "
      ]
     },
     "execution_count": 54,
     "metadata": {},
     "output_type": "execute_result"
    }
   ],
   "source": [
    "best_ridge_models.head()"
   ]
  },
  {
   "cell_type": "code",
   "execution_count": null,
   "metadata": {},
   "outputs": [],
   "source": []
  }
 ],
 "metadata": {
  "kernelspec": {
   "display_name": "Python 3",
   "language": "python",
   "name": "python3"
  },
  "language_info": {
   "codemirror_mode": {
    "name": "ipython",
    "version": 3
   },
   "file_extension": ".py",
   "mimetype": "text/x-python",
   "name": "python",
   "nbconvert_exporter": "python",
   "pygments_lexer": "ipython3",
   "version": "3.6.5"
  }
 },
 "nbformat": 4,
 "nbformat_minor": 2
}
